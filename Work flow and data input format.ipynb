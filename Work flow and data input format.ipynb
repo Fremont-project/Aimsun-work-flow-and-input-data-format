{
 "cells": [
  {
   "cell_type": "code",
   "execution_count": 1,
   "metadata": {},
   "outputs": [],
   "source": [
    "import pandas as pd\n",
    "import numpy as np"
   ]
  },
  {
   "cell_type": "markdown",
   "metadata": {},
   "source": [
    "# Part 1 Basic Map Calibration"
   ]
  },
  {
   "cell_type": "markdown",
   "metadata": {},
   "source": [
    "### 1. Load the Open Street Map (OSM) of Fremont    \n",
    "    a. Donwload OSM file   \n",
    "    b. In Aimsun: File -> Import -> OpenStreetMap Files"
   ]
  },
  {
   "cell_type": "markdown",
   "metadata": {},
   "source": [
    "### 2. Match the satellite map tile of Fremont with the OSM   \n",
    "    a. Download the satellite map tile of the corresponding area from google map satellite view    \n",
    "    b. In Aimsun: File -> Import -> Image File    \n",
    "    c. (Less precise) Double click the Image and open Positioner tab, choose 4 Reference points in the Map and the corresponding satellite map tile.    \n",
    "    d. (Recommended, more precise) Alternatively, rotate the satellite map tile manually before loading into Aimsun. Then in the Basic tab in Aimsun, set ‘Width’ and ‘Height’ of Physical Size manually.    "
   ]
  },
  {
   "cell_type": "markdown",
   "metadata": {},
   "source": [
    "### 3. Revise the OSM based on the satellite map tile\n",
    "    a. Edit the number of lanes   \n",
    "    b. Edit the intersections   \n",
    "    c. Add stop signs   \n",
    "    d. Remove the non connected components, rails.   \n",
    "    e. Most basic editing operations can be found in Aimsun Tutorial One."
   ]
  },
  {
   "cell_type": "markdown",
   "metadata": {},
   "source": [
    "### 4. Using scripts to load speed limit, capacity of sections\n",
    "    a. Be careful about the unit of speed limit must be km/h\n",
    "    b. One might change cost functions, but this requires a lot of data"
   ]
  },
  {
   "cell_type": "markdown",
   "metadata": {
    "scrolled": true
   },
   "source": [
    "```python\n",
    "''' This is a Python 2 code, can be executed only in Aimsun '''\n",
    "import csv\n",
    "import os\n",
    "\n",
    "def get_object(eid):\n",
    "    return model.getCatalog().findObjectByExternalId(eid)\n",
    "\n",
    "file = open(\"...\")\n",
    "reader = csv.reader(file)\n",
    "\n",
    "for line in reader:\n",
    "#     name = 'detector' + line[0] # line[0] should be object id \n",
    "#     print name\n",
    "    \n",
    "    target = get_object(str(line[0])) #  external id of the road section\n",
    "\n",
    "    if target != None:\n",
    "        print('Before, Section EID: {}, Name: {}, Speed: {}, Capacity: {}, Slope: {}'.format(target.getExternalId(), target.getName(), target.getSpeed(), target.getCapacity(), target.getSlope(0)))\n",
    "        target.setSpeed(line[1])\n",
    "        target.setCapacity(line[2])\n",
    "        #target.setName(line[3])\n",
    "#         print 'After, Section EID: %i, Name: %s, Speed: %i, Capacity: %i, Slope: %i' % (target.getExternalId(), target.getName(), target.getSpeed(), target.getCapacity(), target.getSlope(0))\n",
    "    else:\n",
    "        model.reportError(\"Set Section Parameters\", \"The script must be launched from a Section context menu\")\n",
    "```"
   ]
  },
  {
   "cell_type": "markdown",
   "metadata": {},
   "source": [
    "input file format:\n",
    "\n",
    "    line[0]: external id of the road section\n",
    "    line[1]: speed limit\n",
    "    line[2]: capacity\n",
    "        \n",
    "    Below are the information which are less important but still can be imported into aimsun but we can leave it as default:\n",
    "    \n",
    "    line[3]: rename the road section \n",
    "    \n",
    "    an example are showing below"
   ]
  },
  {
   "cell_type": "code",
   "execution_count": 3,
   "metadata": {},
   "outputs": [],
   "source": [
    "section_parameter_file = pd.DataFrame({'eid':[1000,1111,1234]\n",
    "                       ,'speed':[25,45,65],'capacity':[150,200,300],'name':['roada','roadb','roadc']})"
   ]
  },
  {
   "cell_type": "code",
   "execution_count": 4,
   "metadata": {},
   "outputs": [
    {
     "data": {
      "text/html": [
       "<div>\n",
       "<style scoped>\n",
       "    .dataframe tbody tr th:only-of-type {\n",
       "        vertical-align: middle;\n",
       "    }\n",
       "\n",
       "    .dataframe tbody tr th {\n",
       "        vertical-align: top;\n",
       "    }\n",
       "\n",
       "    .dataframe thead th {\n",
       "        text-align: right;\n",
       "    }\n",
       "</style>\n",
       "<table border=\"1\" class=\"dataframe\">\n",
       "  <thead>\n",
       "    <tr style=\"text-align: right;\">\n",
       "      <th></th>\n",
       "      <th>eid</th>\n",
       "      <th>speed</th>\n",
       "      <th>capacity</th>\n",
       "      <th>name</th>\n",
       "    </tr>\n",
       "  </thead>\n",
       "  <tbody>\n",
       "    <tr>\n",
       "      <th>0</th>\n",
       "      <td>1000</td>\n",
       "      <td>25</td>\n",
       "      <td>150</td>\n",
       "      <td>roada</td>\n",
       "    </tr>\n",
       "    <tr>\n",
       "      <th>1</th>\n",
       "      <td>1111</td>\n",
       "      <td>45</td>\n",
       "      <td>200</td>\n",
       "      <td>roadb</td>\n",
       "    </tr>\n",
       "    <tr>\n",
       "      <th>2</th>\n",
       "      <td>1234</td>\n",
       "      <td>65</td>\n",
       "      <td>300</td>\n",
       "      <td>roadc</td>\n",
       "    </tr>\n",
       "  </tbody>\n",
       "</table>\n",
       "</div>"
      ],
      "text/plain": [
       "    eid  speed  capacity   name\n",
       "0  1000     25       150  roada\n",
       "1  1111     45       200  roadb\n",
       "2  1234     65       300  roadc"
      ]
     },
     "execution_count": 4,
     "metadata": {},
     "output_type": "execute_result"
    }
   ],
   "source": [
    "section_parameter_file"
   ]
  },
  {
   "cell_type": "markdown",
   "metadata": {},
   "source": [
    "### 5. Add Vehicle Type to differential Navigational Apps Users with Non-Navigational Apps Users   \n",
    "    a. Add a new “Vehicle Type” in Vehicles.   \n",
    "    b. Double click the new vehicle type and change necessary attributes."
   ]
  },
  {
   "cell_type": "markdown",
   "metadata": {},
   "source": [
    "***\n",
    "# Part 2 Data Loading"
   ]
  },
  {
   "cell_type": "markdown",
   "metadata": {},
   "source": [
    "\n",
    "<center>Data Summary</center>\n",
    "\n",
    "| Data                      | Description                              | Note                    |\n",
    "|:--------------------------|:-----------------------------------------|:------------------------|\n",
    "| [1. Centroid](#centroid)     | One csv file containing: <br> **centroid_name**, **centroid_lat**, **centroid_long**, <br> **Generate_Section_eID**, **Absort_Section_eID**| 1. The **centroid_name** should be unique & consistent with the \"OD Matrix data\" <br> 2. The longitude and latitude should be **EPSG:32610** values |\n",
    "| [2. OD Matrix](#od)          | Two csv containing the total vehicle count from one <br> centroid to another. | 1. The **centroid_name** should be unique & consistent with the \"Centroid data\" <br> 2. Two csv files `externel to externel` (commuter) and <br> `Non-externel to externel` (resident) are needed.\n",
    "| [3. Detector](#detector)     | One csv file containing: **detector_name**, **section_eID** | 1. The **detector_name** should be unique & consistent with the \"Real Data Set\" |\n",
    "| [4. Real Data Set](#rds)     | One csv file containing data collected by all the detectors in different time: <br> `detector_name`, `data_collected_time`, `count`, `speed`, etc    | 1. The **detector_name** should unique & be consistent with the \"Detector\" <br> 2. Vehicle count is the most important data, we might need `speed` data <br> in dynamic simulation later    |\n",
    "| [5. Control Plan](#control)  | Several PDF files ||"
   ]
  },
  {
   "cell_type": "markdown",
   "metadata": {},
   "source": [
    "### 0. Export the Aimsun network to Shapefile \n",
    "1. Run the following script in Aimsun to set `Externel ID` to `Aimsun Primary ID` (which is unique)\n",
    "\n",
    "```python\n",
    "''' This is a Python 2 code, can be executed only in Aimsun '''\n",
    "for i in range(200000):\n",
    "\tObject = model.getCatalog().find(i)\n",
    "\tif Object != None:\n",
    "\t\tObject.setExternalId(str(Object.getId()))\n",
    "```\n",
    "2. In Aimsun: File -> Export -> GIS\n",
    "3. Import the network into Shapefile, and generate data."
   ]
  },
  {
   "cell_type": "markdown",
   "metadata": {},
   "source": [
    "<a id='centroid'></a>\n",
    "### 1. Add internal/external centroids to generate cars   <font color=red size=3>Data Format for Data Collection Team Reference</font>   \n",
    "- It is one csv file for all internel/externel centroids.\n",
    "- The file contains `Centroid_name`, `Centroid_Longitude`, `Centroid_Latitude`, `in_or_out`, `Section_External_ID`\n",
    " - `Centroid_name`: should be unique & consistent with the [\"OD Matrix\"](#od) data. You may name it as `I1`, `I2`, `E1`, `E2`, etc. \n",
    " - `Centroid_Longitude`, `Centroid_Latitude`: should be EPSG values\n",
    " - `Generate_Section_External_ID`: a list of section externel IDs of generating direction\n",
    " - `Absort_Section_External_ID`:a list of section externel IDs of absorbing direction"
   ]
  },
  {
   "cell_type": "code",
   "execution_count": 4,
   "metadata": {},
   "outputs": [
    {
     "data": {
      "text/html": [
       "<div>\n",
       "<style scoped>\n",
       "    .dataframe tbody tr th:only-of-type {\n",
       "        vertical-align: middle;\n",
       "    }\n",
       "\n",
       "    .dataframe tbody tr th {\n",
       "        vertical-align: top;\n",
       "    }\n",
       "\n",
       "    .dataframe thead th {\n",
       "        text-align: right;\n",
       "    }\n",
       "</style>\n",
       "<table border=\"1\" class=\"dataframe\">\n",
       "  <thead>\n",
       "    <tr style=\"text-align: right;\">\n",
       "      <th></th>\n",
       "      <th>Centroid_name</th>\n",
       "      <th>Centroid_Longitude</th>\n",
       "      <th>Centroid_Latitude</th>\n",
       "      <th>Generate_Section_External_ID</th>\n",
       "      <th>Absort_Section_External_ID</th>\n",
       "    </tr>\n",
       "  </thead>\n",
       "  <tbody>\n",
       "    <tr>\n",
       "      <th>0</th>\n",
       "      <td>I1</td>\n",
       "      <td>583.449821</td>\n",
       "      <td>107.839864</td>\n",
       "      <td>[1000, 5215, 3353]</td>\n",
       "      <td>[1001, 5214, 3354]</td>\n",
       "    </tr>\n",
       "    <tr>\n",
       "      <th>1</th>\n",
       "      <td>I2</td>\n",
       "      <td>697.515730</td>\n",
       "      <td>382.048570</td>\n",
       "      <td>[2534, 3463, 1234]</td>\n",
       "      <td>[2537, 3462, 1235]</td>\n",
       "    </tr>\n",
       "    <tr>\n",
       "      <th>2</th>\n",
       "      <td>E1</td>\n",
       "      <td>451.027340</td>\n",
       "      <td>893.949075</td>\n",
       "      <td>[9529]</td>\n",
       "      <td>[9531]</td>\n",
       "    </tr>\n",
       "  </tbody>\n",
       "</table>\n",
       "</div>"
      ],
      "text/plain": [
       "  Centroid_name  Centroid_Longitude  Centroid_Latitude  \\\n",
       "0            I1          583.449821         107.839864   \n",
       "1            I2          697.515730         382.048570   \n",
       "2            E1          451.027340         893.949075   \n",
       "\n",
       "  Generate_Section_External_ID Absort_Section_External_ID  \n",
       "0           [1000, 5215, 3353]         [1001, 5214, 3354]  \n",
       "1           [2534, 3463, 1234]         [2537, 3462, 1235]  \n",
       "2                       [9529]                     [9531]  "
      ]
     },
     "execution_count": 4,
     "metadata": {},
     "output_type": "execute_result"
    }
   ],
   "source": [
    "fake_cendroid_file = pd.DataFrame({'Centroid_name':['I1','I2', 'E1'],\n",
    "                                   'Centroid_Longitude':list(1000*np.random.rand(3)), \n",
    "                                   'Centroid_Latitude':list(1000*np.random.rand(3)), \n",
    "                                   'Generate_Section_External_ID':[[1000, 5215, 3353], [2534, 3463, 1234], [9529]],\n",
    "                                  'Absort_Section_External_ID':[[1001, 5214, 3354], [2537, 3462, 1235], [9531]]})\n",
    "fake_cendroid_file"
   ]
  },
  {
   "cell_type": "markdown",
   "metadata": {},
   "source": [
    "In Aimsun, using scripts to generate centroids located in the corresponding longitude & latitude, and links the centroids to the corresponding sections according to External_IDs (two directions: generates to & attracts from)\n",
    "\n",
    "```python\n",
    "''' This is a Python 2 code, can be executed only in Aimsun '''\n",
    "\n",
    "NAME = 0\n",
    "LON = 2\n",
    "LAT = 3\n",
    "FROM = 5\n",
    "TO = 4\n",
    "\n",
    "import csv\n",
    "\n",
    "def create_new_configuration():\n",
    "    cmd = model.createNewCmd(model.getType(\"GKCentroidConfiguration\"))\n",
    "    model.getCommander().addCommand(cmd)\n",
    "    return cmd.createdObject()\n",
    "\n",
    "def create_new_centroid(configuration, name, Lon, Lat):\n",
    "    cmd = model.createNewCmd(model.getType(\"GKCentroid\"))\n",
    "    cmd.setData(GKPoint(Lon, Lat), configuration)\n",
    "    model.getCommander().addCommand(cmd)\n",
    "    centroid = cmd.createdObject()\n",
    "    centroid.setName(name)\n",
    "    return centroid\n",
    "\n",
    "def create_new_connection(source_object, destination_object):\n",
    "    cmd = GKCenConnectionNewCmd()\n",
    "    cmd.setData(source_object, destination_object)\n",
    "    model.getCommander().addCommand(cmd)\n",
    "    return cmd.createdObject()\n",
    "\n",
    "def get_object(external_id):\n",
    "    return model.getCatalog().findObjectByExternalId(external_id)\n",
    "\n",
    "def main():\n",
    "    config = Object = model.getCatalog().find(60507)\n",
    "    #config = create_new_configuration()\n",
    "\n",
    "    with open('C:\\Users\\Theo\\Dropbox\\Aimsun\\General Data\\Aimsun Project Dependency File\\centroid_connections.csv') as linksfile:\n",
    "        csvreader = csv.reader(linksfile, delimiter=\",\")\n",
    "        next(csvreader)\n",
    "\n",
    "        for row in csvreader:\n",
    "            centroid_name = row[NAME]\n",
    "            Lon = float(row[LON])\n",
    "            Lat = float(row[LAT])\n",
    "            print(centroid_name, Lon, Lat)\n",
    "            centroid = create_new_centroid(config, centroid_name, Lon, Lat)\n",
    "\n",
    "            if len(row[FROM]) != 0:\n",
    "                from_sections = row[FROM].split(\", \")\n",
    "                print(from_sections)\n",
    "                for from_section_id in from_sections:\n",
    "                    from_section = get_object(from_section_id)\n",
    "                    create_new_connection(from_section, centroid)\n",
    "            \n",
    "            if len(row[TO]) != 0:\n",
    "                to_sections = row[TO].split(\", \")\n",
    "                print(to_sections)\n",
    "                for to_section_id in to_sections:\n",
    "                    to_section = get_object(to_section_id)\n",
    "                    create_new_connection(centroid, to_section)\n",
    "\t\t\n",
    "            centroid.setPositionByConnections()\n",
    "    print \"Done\"\n",
    "\n",
    "main()\n",
    "```"
   ]
  },
  {
   "cell_type": "markdown",
   "metadata": {},
   "source": [
    "<a id='od'></a>\n",
    "### 2. Import the OD matrix as demand data.   <font color=red size=3>Data Format for Data Collection Team Reference</font>   \n",
    "- Two csv files for **commuter** and several csv files for **resident**.\n",
    "- The centroid_name should be unique & consistent with the [\"Centroid data\"](#centroid)"
   ]
  },
  {
   "cell_type": "code",
   "execution_count": 5,
   "metadata": {},
   "outputs": [
    {
     "name": "stdout",
     "output_type": "stream",
     "text": [
      "This is an example for resident, we also need a similar file for commuter\n"
     ]
    },
    {
     "data": {
      "text/html": [
       "<div>\n",
       "<style scoped>\n",
       "    .dataframe tbody tr th:only-of-type {\n",
       "        vertical-align: middle;\n",
       "    }\n",
       "\n",
       "    .dataframe tbody tr th {\n",
       "        vertical-align: top;\n",
       "    }\n",
       "\n",
       "    .dataframe thead th {\n",
       "        text-align: right;\n",
       "    }\n",
       "</style>\n",
       "<table border=\"1\" class=\"dataframe\">\n",
       "  <thead>\n",
       "    <tr style=\"text-align: right;\">\n",
       "      <th></th>\n",
       "      <th>CentroidID_O</th>\n",
       "      <th>CentroidID_D</th>\n",
       "      <th>Time</th>\n",
       "      <th>Count</th>\n",
       "    </tr>\n",
       "  </thead>\n",
       "  <tbody>\n",
       "    <tr>\n",
       "      <th>0</th>\n",
       "      <td>int_1</td>\n",
       "      <td>int_2</td>\n",
       "      <td>2000-01-01 14:00:00+00:00</td>\n",
       "      <td>15</td>\n",
       "    </tr>\n",
       "    <tr>\n",
       "      <th>1</th>\n",
       "      <td>int_1</td>\n",
       "      <td>ext_1</td>\n",
       "      <td>2000-01-01 14:15:00+00:00</td>\n",
       "      <td>12</td>\n",
       "    </tr>\n",
       "    <tr>\n",
       "      <th>2</th>\n",
       "      <td>int_5</td>\n",
       "      <td>int_1</td>\n",
       "      <td>2000-01-01 14:30:00+00:00</td>\n",
       "      <td>10</td>\n",
       "    </tr>\n",
       "  </tbody>\n",
       "</table>\n",
       "</div>"
      ],
      "text/plain": [
       "  CentroidID_O CentroidID_D                       Time  Count\n",
       "0        int_1        int_2  2000-01-01 14:00:00+00:00     15\n",
       "1        int_1        ext_1  2000-01-01 14:15:00+00:00     12\n",
       "2        int_5        int_1  2000-01-01 14:30:00+00:00     10"
      ]
     },
     "execution_count": 5,
     "metadata": {},
     "output_type": "execute_result"
    }
   ],
   "source": [
    "resident = pd.DataFrame({'CentroidID_O':['int_1','int_1', 'int_5'],\n",
    "                         'CentroidID_D':['int_2','ext_1','int_1'], \n",
    "                         'Time':['2000-01-01 14:00:00+00:00','2000-01-01 14:15:00+00:00','2000-01-01 14:30:00+00:00'], \n",
    "                         'Count':[15,12,10]})\n",
    "print(\"This is an example for resident, we also need a similar file for commuter\")\n",
    "resident"
   ]
  },
  {
   "cell_type": "markdown",
   "metadata": {},
   "source": [
    "Using scripts to import OD matrices into Aimsun\n",
    "\n",
    "```python\n",
    "''' This is a Python 2 code, can be executed only in Aimsun '''\n",
    "\n",
    "import csv\n",
    "import time\n",
    "### PARAMETERS BEGIN\n",
    "# Column location in the CSV file\n",
    "FROM = 1\n",
    "TO = 2\n",
    "TIME = 3\n",
    "TIME_START = 11\n",
    "TIME_END = 16\n",
    "COUNT = 4\n",
    "\n",
    "SKIP_CSV_HEAD = 1\n",
    "# Aimsun Vehicle type ID\n",
    "RESIDENT = 63068\n",
    "COMMUTER = 63069\n",
    "vehId = RESIDENT\n",
    "\n",
    "# Aimsun Centroid Configuration ID\n",
    "CENTROID_CONFIG = 60507\n",
    "\n",
    "TIME_DURATION = GKTimeDuration(00,15,00)\n",
    "### PARAMETERS END\n",
    "\n",
    "centroid_config_id = CENTROID_CONFIG\n",
    "centroidConf = model.getCatalog().find(centroid_config_id)\n",
    "        \n",
    "def find_matrix_object(time_str, OD_dict):\n",
    "    if time_str in OD_dict:\n",
    "        return OD_dict[time_str]\n",
    "    else:\n",
    "        # load the matrix to centroid configurations\n",
    "        matrix = GKSystem.getSystem().newObject(\"GKODMatrix\", model)\n",
    "        matrix_name_veh = 'Commuter' if vehId == COMMUTER else 'Resident'\n",
    "        matrix_name = matrix_name_veh + ' - ' + time_str\n",
    "        matrix.setName(matrix_name)\n",
    "        centroidConf.addODMatrix(matrix)\n",
    "        # set vehicle ID\n",
    "        vehicle = centroidConf.getModel().getCatalog().find(vehId)\n",
    "        matrix.setVehicle(vehicle)\n",
    "        # set time\n",
    "        matrix.setFrom(QTime.fromString(time_str, \"hh:mm\"))\n",
    "        matrix.setDuration(TIME_DURATION)\n",
    "    \n",
    "        # add matrix to the dictionary\n",
    "        OD_dict[time_str] = matrix\n",
    "    return OD_dict[time_str]\n",
    "    \n",
    "def import_od_to_aimsun(od_file):\n",
    "    \"\"\"\n",
    "    This function loads the OD matrix to AIMSUN from the OD matrix file\n",
    "    :param od_file: the OD matrix file in AIMSUN required format\n",
    "    :para od_time: int tuple (hour, minute)\n",
    "    :param vehId: int vehicle ID\n",
    "    :return: the demand\n",
    "    \"\"\"\n",
    "    OD_dict = {}\n",
    "    empty_centroid = set()\n",
    "    for line in open(od_file, \"r\").readlines()[SKIP_CSV_HEAD:]:\n",
    "        tokens = line.split(\",\")\n",
    "        # find OD matrix\n",
    "        time_str = tokens[TIME][TIME_START:TIME_END]\n",
    "        matrix = find_matrix_object(time_str, OD_dict)\n",
    "        \n",
    "        # extract values from line\n",
    "        fromCentroid = centroidConf.getModel().getCatalog().findByName(str(tokens[FROM]))\n",
    "        toCentroid = centroidConf.getModel().getCatalog().findByName(str(tokens[TO]))\n",
    "        trips = float(tokens[COUNT])\n",
    "\t    # Set the value if the section is valid\n",
    "        if fromCentroid == None or toCentroid == None:\n",
    "            if fromCentroid == None:\n",
    "                empty_centroid.add(tokens[FROM])\n",
    "            if toCentroid == None:\n",
    "                empty_centroid.add(tokens[TO])\n",
    "            continue\n",
    "        matrix.setTrips(fromCentroid, toCentroid, trips)\n",
    "    \n",
    "    for name in empty_centroid:\n",
    "        print(\"Warning: centroid \" + name + \" not found\")\n",
    "    print(' Done!')\n",
    "\n",
    "    \n",
    "od_file = '/Users/jinhengxu/Desktop/internal_OD_demand.csv'\n",
    "import_od_to_aimsun(od_file)\n",
    "```"
   ]
  },
  {
   "cell_type": "markdown",
   "metadata": {},
   "source": [
    "<a id='detector'></a>\n",
    "### 3. Import Detectors.  <font color=red size=3>Data Format for Data Collection Team Reference</font>   \n",
    "\n",
    "- It is one csv file for all detectors and their locations.\n",
    "- The detector_name should be unique & consistent with the [\"Real Data Set\"](#rds)\n",
    "    - If each road section has no more than one detector, you may name detector as \"detector_{section_ID}\", e.g. \"detector_6594\"\n",
    "- You may add more information for detector locations, but it is not necessary\n",
    "    - position of the detector\n",
    "    - length of the detector\n",
    "    - covered lanes of the detector"
   ]
  },
  {
   "cell_type": "code",
   "execution_count": 80,
   "metadata": {},
   "outputs": [
    {
     "data": {
      "text/html": [
       "<div>\n",
       "<style scoped>\n",
       "    .dataframe tbody tr th:only-of-type {\n",
       "        vertical-align: middle;\n",
       "    }\n",
       "\n",
       "    .dataframe tbody tr th {\n",
       "        vertical-align: top;\n",
       "    }\n",
       "\n",
       "    .dataframe thead th {\n",
       "        text-align: right;\n",
       "    }\n",
       "</style>\n",
       "<table border=\"1\" class=\"dataframe\">\n",
       "  <thead>\n",
       "    <tr style=\"text-align: right;\">\n",
       "      <th></th>\n",
       "      <th>Detector Name</th>\n",
       "      <th>Located Section externel ID</th>\n",
       "    </tr>\n",
       "  </thead>\n",
       "  <tbody>\n",
       "    <tr>\n",
       "      <th>0</th>\n",
       "      <td>Detector_6594</td>\n",
       "      <td>6594</td>\n",
       "    </tr>\n",
       "    <tr>\n",
       "      <th>1</th>\n",
       "      <td>Detector_9423</td>\n",
       "      <td>9423</td>\n",
       "    </tr>\n",
       "    <tr>\n",
       "      <th>2</th>\n",
       "      <td>Detector_5243</td>\n",
       "      <td>5243</td>\n",
       "    </tr>\n",
       "  </tbody>\n",
       "</table>\n",
       "</div>"
      ],
      "text/plain": [
       "   Detector Name  Located Section externel ID\n",
       "0  Detector_6594                         6594\n",
       "1  Detector_9423                         9423\n",
       "2  Detector_5243                         5243"
      ]
     },
     "execution_count": 80,
     "metadata": {},
     "output_type": "execute_result"
    }
   ],
   "source": [
    "detector_file = pd.DataFrame({'Detector Name':['Detector_6594','Detector_9423','Detector_5243'],\n",
    "                              'Located Section externel ID':[6594,9423,5243],\n",
    "                             })\n",
    "detector_file"
   ]
  },
  {
   "cell_type": "markdown",
   "metadata": {},
   "source": [
    "Using scripts to add detectors into Aimsun\n",
    "\n",
    "```python\n",
    "''' This is a Python 2 code, can be executed only in Aimsun '''\n",
    "\n",
    "import csv\n",
    "import os\n",
    "\n",
    "\n",
    "def createDetector( model, section, name ):\n",
    "    #Creates new GKDetector object.\n",
    "    detector = GKSystem.getSystem().newObject( \"GKDetector\", model )\n",
    "    #Sets parameters.\n",
    "    detector.setName( name )\n",
    "    detector.setLanes( 0, len(section.getLanes()) - 1 ); # we can change them, now we set the detector covers all the lanes in this section\n",
    "    detector.setLength( 4.5 ); # we can change them\n",
    "    detector.setPosition( section.length2D() / 2.0 );\n",
    "    #Adds detector to model.\n",
    "    section.addTopObject( detector );\n",
    "    model.getGeoModel().add( section.getLayer(), detector );\n",
    "\n",
    "def get_object(eid):\n",
    "    return model.getCatalog().findObjectByExternalId(eid)\n",
    "\n",
    "# Entry code, the script starts here:\n",
    "\n",
    "file=open('C:\\Users\\Theo\\Fremont Dropbox\\Theophile Cabannes\\Aimsun\\Weekly project 20 Spring\\Week 23\\detectors\\detectors_to_road_segments_2019.csv')\n",
    "reader = csv.reader(file)\n",
    "\n",
    "# skip the first line\n",
    "line = next(reader)\n",
    "\n",
    "for line in reader:\n",
    "\n",
    "    name = 'detector' + str(line[0]) # line[0] should be detector id \n",
    "    print('detector name is %s' % name)\n",
    "\n",
    "    target = get_object(str(int(line[1]))) #  external id of the road section\n",
    "\n",
    "    if target != None:\n",
    "#         target.setName('d'+line[0])\n",
    "        print('section name is %s' % target.getName())\n",
    "        createDetector(model, target, name)\n",
    "        # Be sure that you reset the UNDO buffer after a modification that cannot be undone\n",
    "        model.getCommander().addCommand( None )\n",
    "        print(\"Finish creating detectors on %d\" % int(line[1]))\n",
    "    else:\n",
    "        model.reportError(\"Create Detector\", \"The script must be launched from a Section context menu\")\n",
    "\n",
    "print('Finish adding detectors')\n",
    "```"
   ]
  },
  {
   "cell_type": "markdown",
   "metadata": {},
   "source": [
    "<a id='rds'></a>\n",
    "### 4. Import Real Data Detectors.  <font color=red size=3>Data Format for Data Collection Team Reference</font>  \n",
    "    \n",
    "- It is one csv file for all detectors and their data collected in different time.\n",
    "- The detector_name should unique & be consistent with the [\"Detector\"](#detector) data \n",
    "- Vehicle count is the most important data, we might need speed data \n",
    "in dynamic simulation later"
   ]
  },
  {
   "cell_type": "code",
   "execution_count": 88,
   "metadata": {},
   "outputs": [
    {
     "data": {
      "text/html": [
       "<div>\n",
       "<style scoped>\n",
       "    .dataframe tbody tr th:only-of-type {\n",
       "        vertical-align: middle;\n",
       "    }\n",
       "\n",
       "    .dataframe tbody tr th {\n",
       "        vertical-align: top;\n",
       "    }\n",
       "\n",
       "    .dataframe thead th {\n",
       "        text-align: right;\n",
       "    }\n",
       "</style>\n",
       "<table border=\"1\" class=\"dataframe\">\n",
       "  <thead>\n",
       "    <tr style=\"text-align: right;\">\n",
       "      <th></th>\n",
       "      <th>Detector Name</th>\n",
       "      <th>Time data collected</th>\n",
       "      <th>Vehicle Type</th>\n",
       "      <th>Vehicle Count in this peroid</th>\n",
       "      <th>Vehicle Speed in this peroid</th>\n",
       "    </tr>\n",
       "  </thead>\n",
       "  <tbody>\n",
       "    <tr>\n",
       "      <th>0</th>\n",
       "      <td>Detector_6594</td>\n",
       "      <td>14:00:00</td>\n",
       "      <td>car</td>\n",
       "      <td>748.465800</td>\n",
       "      <td>82.823591</td>\n",
       "    </tr>\n",
       "    <tr>\n",
       "      <th>1</th>\n",
       "      <td>Detector_6594</td>\n",
       "      <td>14:15:00</td>\n",
       "      <td>car</td>\n",
       "      <td>154.248259</td>\n",
       "      <td>59.791796</td>\n",
       "    </tr>\n",
       "    <tr>\n",
       "      <th>2</th>\n",
       "      <td>Detector_6594</td>\n",
       "      <td>14:30:00</td>\n",
       "      <td>car</td>\n",
       "      <td>13.680613</td>\n",
       "      <td>11.985300</td>\n",
       "    </tr>\n",
       "    <tr>\n",
       "      <th>3</th>\n",
       "      <td>Detector_6594</td>\n",
       "      <td>14:45:00</td>\n",
       "      <td>car</td>\n",
       "      <td>522.690176</td>\n",
       "      <td>38.363366</td>\n",
       "    </tr>\n",
       "    <tr>\n",
       "      <th>4</th>\n",
       "      <td>Detector_9423</td>\n",
       "      <td>14:00:00</td>\n",
       "      <td>car</td>\n",
       "      <td>427.663566</td>\n",
       "      <td>93.178511</td>\n",
       "    </tr>\n",
       "    <tr>\n",
       "      <th>5</th>\n",
       "      <td>Detector_9423</td>\n",
       "      <td>14:15:00</td>\n",
       "      <td>car</td>\n",
       "      <td>759.809021</td>\n",
       "      <td>10.855887</td>\n",
       "    </tr>\n",
       "    <tr>\n",
       "      <th>6</th>\n",
       "      <td>Detector_9423</td>\n",
       "      <td>14:30:00</td>\n",
       "      <td>car</td>\n",
       "      <td>187.217716</td>\n",
       "      <td>14.641316</td>\n",
       "    </tr>\n",
       "    <tr>\n",
       "      <th>7</th>\n",
       "      <td>Detector_9423</td>\n",
       "      <td>14:45:00</td>\n",
       "      <td>car</td>\n",
       "      <td>898.185803</td>\n",
       "      <td>62.565367</td>\n",
       "    </tr>\n",
       "  </tbody>\n",
       "</table>\n",
       "</div>"
      ],
      "text/plain": [
       "   Detector Name Time data collected Vehicle Type  \\\n",
       "0  Detector_6594            14:00:00          car   \n",
       "1  Detector_6594            14:15:00          car   \n",
       "2  Detector_6594            14:30:00          car   \n",
       "3  Detector_6594            14:45:00          car   \n",
       "4  Detector_9423            14:00:00          car   \n",
       "5  Detector_9423            14:15:00          car   \n",
       "6  Detector_9423            14:30:00          car   \n",
       "7  Detector_9423            14:45:00          car   \n",
       "\n",
       "   Vehicle Count in this peroid  Vehicle Speed in this peroid  \n",
       "0                    748.465800                     82.823591  \n",
       "1                    154.248259                     59.791796  \n",
       "2                     13.680613                     11.985300  \n",
       "3                    522.690176                     38.363366  \n",
       "4                    427.663566                     93.178511  \n",
       "5                    759.809021                     10.855887  \n",
       "6                    187.217716                     14.641316  \n",
       "7                    898.185803                     62.565367  "
      ]
     },
     "execution_count": 88,
     "metadata": {},
     "output_type": "execute_result"
    }
   ],
   "source": [
    "real_data = pd.DataFrame({'Detector Name':['Detector_6594']*4+['Detector_9423']*4,\n",
    "                              'Time data collected':['14:00:00', '14:15:00', '14:30:00', '14:45:00', '14:00:00', '14:15:00', '14:30:00', '14:45:00'],\n",
    "                             'Vehicle Type':['car']*8, \n",
    "                             'Vehicle Count in this peroid': list(1000*np.random.rand(8)),\n",
    "                             'Vehicle Speed in this peroid': list(100*np.random.rand(8))})\n",
    "real_data"
   ]
  },
  {
   "cell_type": "markdown",
   "metadata": {},
   "source": [
    "    a. In Aimsun: Project -> New -> Data Analysis -> Real Data Set    \n",
    "    b. Double click the new real data set, add an Real Data Simple File Reader. Then open it, set the columns and import Detectors CSV Files."
   ]
  },
  {
   "cell_type": "markdown",
   "metadata": {},
   "source": [
    "<a id='control'></a>\n",
    "### 5. Add Traffic Control Plan.    \n",
    "    a. Find the location of the intersection and double click the location, then select “Signal Groups” in the popup window.    \n",
    "    b. Click the “New” button and choose “Turns” corresponding to a certain phase of signal. Repeat this step and add all the turns.\n",
    "    c. Right click the intersection and choose “Edit Control Plan” -> “Control Plan”. In the popup window, set “type” as “fixed”, set “Cycle” as the traffic signal cycle.    \n",
    "    d. Click “Add Phase” and Assign it to a “Signal”. Drag the Green bar to set the green time of the Signal. Click “Add Phase” and select “Interphase” to add yellow + red time. "
   ]
  },
  {
   "cell_type": "markdown",
   "metadata": {},
   "source": [
    "***\n",
    "# Part 3 Simulation"
   ]
  },
  {
   "cell_type": "markdown",
   "metadata": {},
   "source": [
    "### 1. Edit View Modes for visualization.    \n",
    "    a. In Aimsun: edit/add items in View Modes.     \n",
    "    b. To show different colors for vehicles: double click “PARAMETERS: Vehicle Type” in View Modes, edit “Used Styles”. Select Objects of Type as “Simulation Vehicles”, Attribute: “Vehicle Type”. Style: “Color”. Then click “New” and set Symbol as desired color and set Value as the name of vehicle type.    \n",
    "    c. We can follow similar steps to show different colors for other attributes, e.g. colors for maximum section speed, color for real-time road capacity, etc."
   ]
  },
  {
   "cell_type": "markdown",
   "metadata": {},
   "source": [
    "### 2. Do Static OD Adjustment Simulation    \n",
    "    a. In Aimsun, Project -> New -> Scenarios -> Static OD Adjustment Scenario    \n",
    "    b. Double click the new Scenario, choose Traffic Demand to be adjusted and Detection Data as the ground truth.    \n",
    "    c. Create a new experiment and run. After adjustment, click “Create Demand and Matrices” to generate a new Traffic Demand holding the adjusted matrices."
   ]
  },
  {
   "cell_type": "markdown",
   "metadata": {},
   "source": [
    "### 3. Do Static Assignment Scenario    \n",
    "    a. In Aimsun: Project -> New -> Demand Data -> Path Assignment, which is where we save the paths from the static assignment that we might want to use later as an input in other dynamic scenarios.    \n",
    "    b. Project -> New -> Scenarios -> Static Assignment Scenario. Open the scenario and select the above Path Assignment in the “Output to Generates” tab.    \n",
    "    c. Create a new experiment and run."
   ]
  },
  {
   "cell_type": "markdown",
   "metadata": {},
   "source": [
    "### 4. Do Dynamic OD Adjustment (To Do)"
   ]
  },
  {
   "cell_type": "markdown",
   "metadata": {},
   "source": [
    "### 5. Set Routing Behavior, Car Following/Lane Changing Behavior    \n",
    "    a. In Aimsun: Vehicles -> Choose any vehicle type and double click -> Vehicle Type Editor -> Microscopic Model    \n",
    "    b. Change the parameters of the Car-following Model (sensitivity factor and gap) "
   ]
  },
  {
   "cell_type": "markdown",
   "metadata": {},
   "source": [
    "### 6. Do Micro Simulation    \n",
    "    a. In Aimsun: Scenarios -> Dynamic Scenario (double click) -> Main     \n",
    "    b. Select the traffic demand matrix and the master control plan    \n",
    "    c. Scenarios -> Dynamic Scenario -> Micro SRC Experiment -> Replication (right click) -> Run Animated Simulation"
   ]
  },
  {
   "cell_type": "markdown",
   "metadata": {},
   "source": [
    "### 7. Redo Simulation Using Replay\n",
    "    a. In Aimsun: Scenarios -> Dynamic Senario -> Micro SRC Experiment -> Replication (right click) -> Play Recorded Simulation"
   ]
  },
  {
   "cell_type": "markdown",
   "metadata": {},
   "source": [
    "***\n",
    "# Part 4 Validation"
   ]
  },
  {
   "cell_type": "markdown",
   "metadata": {},
   "source": [
    "### 1. Validation can be done using:   \n",
    "    a. Pass Travel Time       \n",
    "    b. Pass Flow    \n",
    "    c. Link Flow\n",
    "    d. Link Speed"
   ]
  },
  {
   "cell_type": "markdown",
   "metadata": {},
   "source": [
    "### 2. SQLite File \n",
    "    a. Automatically genereted after simulation      \n",
    "    b. .sqlite file can be found under the same folder with .ang file"
   ]
  }
 ],
 "metadata": {
  "kernelspec": {
   "display_name": "Python 3",
   "language": "python",
   "name": "python3"
  },
  "language_info": {
   "codemirror_mode": {
    "name": "ipython",
    "version": 3
   },
   "file_extension": ".py",
   "mimetype": "text/x-python",
   "name": "python",
   "nbconvert_exporter": "python",
   "pygments_lexer": "ipython3",
   "version": "3.7.6"
  }
 },
 "nbformat": 4,
 "nbformat_minor": 2
}
